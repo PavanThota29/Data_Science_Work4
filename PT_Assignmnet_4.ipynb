{
 "cells": [
  {
   "cell_type": "code",
   "execution_count": 1,
   "metadata": {},
   "outputs": [],
   "source": [
    "#Task 1:\n",
    "#1.\n",
    "#Given a sequence of n values x1, x2, ..., xn and a window size k>0, the k-th moving average of\n",
    "#the given sequence is defined as follows:\n",
    "#The moving average sequence has n-k+1 elements as shown below.\n",
    "#The moving averages with k=4 of a ten-value sequence (n=10) is shown below\n",
    "#i 1 2 3 4 5 6 7 8 9 10\n",
    "#===== == == == == == == == == == ==\n",
    "#Input 10 20 30 40 50 60 70 80 90 100\n",
    "#y1 25 = (10+20+30+40)/4\n",
    "#y2 35 = (20+30+40+50)/4\n",
    "#y3 45 = (30+40+50+60)/4\n",
    "#y4 55 = (40+50+60+70)/4\n",
    "#y5 65 = (50+60+70+80)/4\n",
    "#y6 75 = (60+70+80+90)/4\n",
    "#y7 85 = (70+80+90+100)/4\n",
    "#Thus, the moving average sequence has n-k+1=10-4+1=7 values.\n",
    "\n",
    "#Problem Statement:\n",
    "#Write a function to find moving average in an array over a window:\n",
    "#Test it over [3, 5, 7, 2, 8, 10, 11, 65, 72, 81, 99, 100, 150] and window of 3."
   ]
  },
  {
   "cell_type": "code",
   "execution_count": 16,
   "metadata": {},
   "outputs": [
    {
     "name": "stdout",
     "output_type": "stream",
     "text": [
      "5.0\n",
      "4.666666666666667\n",
      "5.666666666666667\n",
      "6.666666666666667\n",
      "9.666666666666666\n",
      "28.666666666666668\n",
      "49.333333333333336\n",
      "72.66666666666667\n",
      "84.0\n",
      "93.33333333333333\n",
      "116.33333333333333\n",
      "Thus, the moving average sequence has n-k+1= 11 values\n"
     ]
    }
   ],
   "source": [
    "# Initialize variables\n",
    "lst1 = [10, 20, 30, 40, 50, 60, 70, 80, 90, 100]\n",
    "lst2 = [3, 5, 7, 2, 8, 10, 11, 65, 72, 81, 99, 100, 150]\n",
    "k1 = 4\n",
    "k2 = 3\n",
    "# Function to get the moving average\n",
    "def calc_mov_avg(lst= [], k = int()):\n",
    "    avgsq = len(lst)-k+1\n",
    "    # loop to calculate average values\n",
    "    for j in range(avgsq):\n",
    "        z = int()\n",
    "        for i in range(j, k+j):\n",
    "            z = z+lst[i]\n",
    "        print((z/k))\n",
    "    print(\"Thus, the moving average sequence has n-k+1=\",avgsq,\"values\")\n",
    "\n",
    "# Test above function for lst2, k2\n",
    "calc_mov_avg(lst2, k2)"
   ]
  },
  {
   "cell_type": "code",
   "execution_count": 3,
   "metadata": {},
   "outputs": [],
   "source": [
    "#Task 2:\n",
    "#1.\n",
    "#How-to-count-distance-to-the-previous-zero\n",
    "#For each value, count the difference back to the previous zero (or the start of the Series,\n",
    "#whichever is closer)\n",
    "#create a new column 'Y'\n",
    "#Consider a DataFrame df where there is an integer column 'X'\n",
    "#import pandas as pd\n",
    "#df = pd.DataFrame({'X': [7, 2, 0, 3, 4, 2, 5, 0, 3, 4]})"
   ]
  },
  {
   "cell_type": "code",
   "execution_count": 4,
   "metadata": {},
   "outputs": [
    {
     "data": {
      "text/html": [
       "<div>\n",
       "<style scoped>\n",
       "    .dataframe tbody tr th:only-of-type {\n",
       "        vertical-align: middle;\n",
       "    }\n",
       "\n",
       "    .dataframe tbody tr th {\n",
       "        vertical-align: top;\n",
       "    }\n",
       "\n",
       "    .dataframe thead th {\n",
       "        text-align: right;\n",
       "    }\n",
       "</style>\n",
       "<table border=\"1\" class=\"dataframe\">\n",
       "  <thead>\n",
       "    <tr style=\"text-align: right;\">\n",
       "      <th></th>\n",
       "      <th>X</th>\n",
       "      <th>Y</th>\n",
       "    </tr>\n",
       "  </thead>\n",
       "  <tbody>\n",
       "    <tr>\n",
       "      <th>0</th>\n",
       "      <td>7</td>\n",
       "      <td>1</td>\n",
       "    </tr>\n",
       "    <tr>\n",
       "      <th>1</th>\n",
       "      <td>2</td>\n",
       "      <td>2</td>\n",
       "    </tr>\n",
       "    <tr>\n",
       "      <th>2</th>\n",
       "      <td>0</td>\n",
       "      <td>0</td>\n",
       "    </tr>\n",
       "    <tr>\n",
       "      <th>3</th>\n",
       "      <td>3</td>\n",
       "      <td>1</td>\n",
       "    </tr>\n",
       "    <tr>\n",
       "      <th>4</th>\n",
       "      <td>4</td>\n",
       "      <td>2</td>\n",
       "    </tr>\n",
       "    <tr>\n",
       "      <th>5</th>\n",
       "      <td>2</td>\n",
       "      <td>3</td>\n",
       "    </tr>\n",
       "    <tr>\n",
       "      <th>6</th>\n",
       "      <td>5</td>\n",
       "      <td>4</td>\n",
       "    </tr>\n",
       "    <tr>\n",
       "      <th>7</th>\n",
       "      <td>0</td>\n",
       "      <td>0</td>\n",
       "    </tr>\n",
       "    <tr>\n",
       "      <th>8</th>\n",
       "      <td>3</td>\n",
       "      <td>1</td>\n",
       "    </tr>\n",
       "    <tr>\n",
       "      <th>9</th>\n",
       "      <td>4</td>\n",
       "      <td>2</td>\n",
       "    </tr>\n",
       "  </tbody>\n",
       "</table>\n",
       "</div>"
      ],
      "text/plain": [
       "   X  Y\n",
       "0  7  1\n",
       "1  2  2\n",
       "2  0  0\n",
       "3  3  1\n",
       "4  4  2\n",
       "5  2  3\n",
       "6  5  4\n",
       "7  0  0\n",
       "8  3  1\n",
       "9  4  2"
      ]
     },
     "execution_count": 4,
     "metadata": {},
     "output_type": "execute_result"
    }
   ],
   "source": [
    "# Import required Libraries\n",
    "import pandas as pd\n",
    "# Program to count-distance-to-the-previous-zero \n",
    "df = pd.DataFrame({'X': [7, 2, 0, 3, 4, 2, 5, 0, 3, 4]})\n",
    "x = pd.Series(df['X'])\n",
    "y = (x.groupby(x.eq(0).cumsum().mask(x.eq(0))).cumcount() + 1).mask(x.eq(0), 0).tolist()\n",
    "df['Y'] = y\n",
    "df"
   ]
  },
  {
   "cell_type": "code",
   "execution_count": 5,
   "metadata": {},
   "outputs": [],
   "source": [
    "#2.\n",
    "#Create a DatetimeIndex that contains each business day of 2015 and use it to index a Series of\n",
    "#random numbers."
   ]
  },
  {
   "cell_type": "code",
   "execution_count": 6,
   "metadata": {},
   "outputs": [
    {
     "data": {
      "text/plain": [
       "2015-01-01    0.690271\n",
       "2015-01-02    0.011387\n",
       "2015-01-05    0.374199\n",
       "2015-01-06    0.295235\n",
       "2015-01-07    0.098461\n",
       "2015-01-08    0.155972\n",
       "2015-01-09    0.777939\n",
       "2015-01-12    0.017768\n",
       "2015-01-13    0.684959\n",
       "2015-01-14    0.774481\n",
       "2015-01-15    0.780296\n",
       "2015-01-16    0.485311\n",
       "2015-01-19    0.710906\n",
       "2015-01-20    0.737337\n",
       "2015-01-21    0.532709\n",
       "2015-01-22    0.871432\n",
       "2015-01-23    0.476156\n",
       "2015-01-26    0.044094\n",
       "2015-01-27    0.118247\n",
       "2015-01-28    0.812489\n",
       "2015-01-29    0.773020\n",
       "2015-01-30    0.943196\n",
       "2015-02-02    0.357374\n",
       "2015-02-03    0.704069\n",
       "2015-02-04    0.058333\n",
       "2015-02-05    0.634193\n",
       "2015-02-06    0.863823\n",
       "2015-02-09    0.022108\n",
       "2015-02-10    0.081764\n",
       "2015-02-11    0.582985\n",
       "                ...   \n",
       "2015-11-20    0.563338\n",
       "2015-11-23    0.179456\n",
       "2015-11-24    0.973460\n",
       "2015-11-25    0.684351\n",
       "2015-11-26    0.819352\n",
       "2015-11-27    0.707674\n",
       "2015-11-30    0.950504\n",
       "2015-12-01    0.124376\n",
       "2015-12-02    0.183813\n",
       "2015-12-03    0.222481\n",
       "2015-12-04    0.183701\n",
       "2015-12-07    0.216031\n",
       "2015-12-08    0.764002\n",
       "2015-12-09    0.700948\n",
       "2015-12-10    0.449750\n",
       "2015-12-11    0.489736\n",
       "2015-12-14    0.037313\n",
       "2015-12-15    0.008142\n",
       "2015-12-16    0.688377\n",
       "2015-12-17    0.877276\n",
       "2015-12-18    0.606697\n",
       "2015-12-21    0.009904\n",
       "2015-12-22    0.511218\n",
       "2015-12-23    0.510727\n",
       "2015-12-24    0.649619\n",
       "2015-12-25    0.836526\n",
       "2015-12-28    0.723877\n",
       "2015-12-29    0.085761\n",
       "2015-12-30    0.810385\n",
       "2015-12-31    0.095305\n",
       "Freq: B, Length: 261, dtype: float64"
      ]
     },
     "execution_count": 6,
     "metadata": {},
     "output_type": "execute_result"
    }
   ],
   "source": [
    "# Import Libraries\n",
    "import numpy as np\n",
    "# Program to get datetime index for 2015\n",
    "dti = pd.date_range(start='2015-01-01', end='2015-12-31', freq='B') \n",
    "s = pd.Series(np.random.rand(len(dti)), index=dti)\n",
    "s"
   ]
  },
  {
   "cell_type": "code",
   "execution_count": 7,
   "metadata": {},
   "outputs": [],
   "source": [
    "#3.\n",
    "#Find the sum of the values in s for every Wednesday"
   ]
  },
  {
   "cell_type": "code",
   "execution_count": 8,
   "metadata": {},
   "outputs": [
    {
     "data": {
      "text/plain": [
       "27.32856890100458"
      ]
     },
     "execution_count": 8,
     "metadata": {},
     "output_type": "execute_result"
    }
   ],
   "source": [
    "# Program to get sum of the values for every wednesday\n",
    "s[dti.weekday == 2].sum()"
   ]
  },
  {
   "cell_type": "code",
   "execution_count": 9,
   "metadata": {},
   "outputs": [],
   "source": [
    "#4.\n",
    "#Average For each calendar month"
   ]
  },
  {
   "cell_type": "code",
   "execution_count": 10,
   "metadata": {},
   "outputs": [
    {
     "name": "stderr",
     "output_type": "stream",
     "text": [
      "C:\\Users\\126702\\AppData\\Local\\Continuum\\anaconda3\\lib\\site-packages\\ipykernel_launcher.py:1: FutureWarning: how in .resample() is deprecated\n",
      "the new syntax is .resample(...).mean()\n",
      "  \"\"\"Entry point for launching an IPython kernel.\n"
     ]
    },
    {
     "data": {
      "text/plain": [
       "2015-01-31    0.507539\n",
       "2015-02-28    0.419099\n",
       "2015-03-31    0.607141\n",
       "2015-04-30    0.469528\n",
       "2015-05-31    0.495792\n",
       "2015-06-30    0.547278\n",
       "2015-07-31    0.494096\n",
       "2015-08-31    0.400714\n",
       "2015-09-30    0.571982\n",
       "2015-10-31    0.466981\n",
       "2015-11-30    0.609068\n",
       "2015-12-31    0.425477\n",
       "Freq: M, dtype: float64"
      ]
     },
     "execution_count": 10,
     "metadata": {},
     "output_type": "execute_result"
    }
   ],
   "source": [
    "# Program to calculate average For each calendar month\n",
    "s.resample('M', how='mean')"
   ]
  },
  {
   "cell_type": "code",
   "execution_count": 11,
   "metadata": {},
   "outputs": [],
   "source": [
    "#5.\n",
    "#For each group of four consecutive calendar months in s, find the date on which the highest\n",
    "#value occurred."
   ]
  },
  {
   "cell_type": "code",
   "execution_count": 15,
   "metadata": {},
   "outputs": [
    {
     "name": "stderr",
     "output_type": "stream",
     "text": [
      "C:\\Users\\126702\\AppData\\Local\\Continuum\\anaconda3\\lib\\site-packages\\ipykernel_launcher.py:1: FutureWarning: pd.TimeGrouper is deprecated and will be removed; Please use pd.Grouper(freq=...)\n",
      "  \"\"\"Entry point for launching an IPython kernel.\n"
     ]
    },
    {
     "data": {
      "text/plain": [
       "2015-01-31    0.943196\n",
       "2015-05-31    0.996476\n",
       "2015-09-30    0.996900\n",
       "2016-01-31    0.999429\n",
       "dtype: float64"
      ]
     },
     "execution_count": 15,
     "metadata": {},
     "output_type": "execute_result"
    }
   ],
   "source": [
    "# Program to get higest values date for each quarter\n",
    "s.groupby(pd.TimeGrouper('4M')).max()"
   ]
  },
  {
   "cell_type": "code",
   "execution_count": null,
   "metadata": {},
   "outputs": [],
   "source": []
  }
 ],
 "metadata": {
  "kernelspec": {
   "display_name": "Python 3",
   "language": "python",
   "name": "python3"
  },
  "language_info": {
   "codemirror_mode": {
    "name": "ipython",
    "version": 3
   },
   "file_extension": ".py",
   "mimetype": "text/x-python",
   "name": "python",
   "nbconvert_exporter": "python",
   "pygments_lexer": "ipython3",
   "version": "3.7.0"
  }
 },
 "nbformat": 4,
 "nbformat_minor": 2
}
